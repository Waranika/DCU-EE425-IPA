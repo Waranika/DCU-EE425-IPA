{
  "nbformat": 4,
  "nbformat_minor": 0,
  "metadata": {
    "colab": {
      "provenance": [],
      "authorship_tag": "ABX9TyNxXVqljYM1d++lNHKW84Bv",
      "include_colab_link": true
    },
    "kernelspec": {
      "name": "python3",
      "display_name": "Python 3"
    },
    "language_info": {
      "name": "python"
    }
  },
  "cells": [
    {
      "cell_type": "markdown",
      "metadata": {
        "id": "view-in-github",
        "colab_type": "text"
      },
      "source": [
        "<a href=\"https://colab.research.google.com/github/Waranika/DCU-EE425-IPA/blob/main/IPA1/IPA1_example_2.ipynb\" target=\"_parent\"><img src=\"https://colab.research.google.com/assets/colab-badge.svg\" alt=\"Open In Colab\"/></a>"
      ]
    },
    {
      "cell_type": "code",
      "source": [
        "from skimage import io, filters\n",
        "from skimage.filters import gaussian\n",
        "from skimage.color import rgb2gray\n",
        "import matplotlib.pyplot as plt\n",
        "from skimage import data\n",
        "from skimage.filters import threshold_otsu"
      ],
      "metadata": {
        "id": "JaftEm9OqnrC"
      },
      "execution_count": 14,
      "outputs": []
    },
    {
      "cell_type": "code",
      "execution_count": 6,
      "metadata": {
        "id": "eTOGuOnFqPgd"
      },
      "outputs": [],
      "source": [
        "image = io.imread(\"coins.jpg\")"
      ]
    },
    {
      "cell_type": "markdown",
      "source": [
        "Convert to grayscale"
      ],
      "metadata": {
        "id": "NjV_jCV9rYqs"
      }
    },
    {
      "cell_type": "code",
      "source": [
        "image = rgb2gray(image)"
      ],
      "metadata": {
        "id": "xkfV0ZdSqxti"
      },
      "execution_count": 12,
      "outputs": []
    },
    {
      "cell_type": "markdown",
      "source": [
        "Apply gaussian"
      ],
      "metadata": {
        "id": "_ZwGcBfyrccj"
      }
    },
    {
      "cell_type": "code",
      "source": [
        "gauss_filtered = gaussian(image, sigma=0.5)"
      ],
      "metadata": {
        "id": "WuIiC92qreGw"
      },
      "execution_count": 13,
      "outputs": []
    },
    {
      "cell_type": "markdown",
      "source": [],
      "metadata": {
        "id": "PMNqxYX1sjJr"
      }
    }
  ]
}