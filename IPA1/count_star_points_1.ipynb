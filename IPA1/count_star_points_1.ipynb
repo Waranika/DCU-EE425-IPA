{
  "nbformat": 4,
  "nbformat_minor": 0,
  "metadata": {
    "colab": {
      "provenance": [],
      "authorship_tag": "ABX9TyMdjXbuRqwArRMaF88JIXsF",
      "include_colab_link": true
    },
    "kernelspec": {
      "name": "python3",
      "display_name": "Python 3"
    },
    "language_info": {
      "name": "python"
    }
  },
  "cells": [
    {
      "cell_type": "markdown",
      "metadata": {
        "id": "view-in-github",
        "colab_type": "text"
      },
      "source": [
        "<a href=\"https://colab.research.google.com/github/Waranika/DCU-EE425-IPA/blob/main/IPA1/count_star_points_1.ipynb\" target=\"_parent\"><img src=\"https://colab.research.google.com/assets/colab-badge.svg\" alt=\"Open In Colab\"/></a>"
      ]
    },
    {
      "cell_type": "code",
      "source": [
        "from skimage import io, data"
      ],
      "metadata": {
        "id": "BO703P2rOZSv"
      },
      "execution_count": 1,
      "outputs": []
    },
    {
      "cell_type": "markdown",
      "source": [
        "Task: Count the number of tips on a binary star image\n",
        "\n",
        "Design Principal: Indirect - Use the fact that the number of bays in the image correspond to the number\n",
        "of star tips → Count the number of bays in the star image\n",
        "\n",
        "Basic Steps:\n",
        "* Load image\n",
        "* Segment out the number of bays in the image\n",
        "* Smooth the image to increase reliability\n",
        "* Assign a unique greyscale value to each of the bays\n",
        "* Assign a centroid to each grey scale region\n",
        "* Count the centroids = number of bays = number of star tips\n",
        "* Display results"
      ],
      "metadata": {
        "id": "YzXqYcuDJViV"
      }
    },
    {
      "cell_type": "code",
      "execution_count": 2,
      "metadata": {
        "id": "FTa_95mpIs5I"
      },
      "outputs": [],
      "source": [
        "image = io.imread(\"Star.jpg\")"
      ]
    },
    {
      "cell_type": "code",
      "source": [],
      "metadata": {
        "id": "AMKv_fx7OwJf"
      },
      "execution_count": null,
      "outputs": []
    }
  ]
}