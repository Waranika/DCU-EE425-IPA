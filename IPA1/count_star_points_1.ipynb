{
  "nbformat": 4,
  "nbformat_minor": 0,
  "metadata": {
    "colab": {
      "provenance": [],
      "authorship_tag": "ABX9TyPpwHMNgWTIVgtO2IjpSash",
      "include_colab_link": true
    },
    "kernelspec": {
      "name": "python3",
      "display_name": "Python 3"
    },
    "language_info": {
      "name": "python"
    }
  },
  "cells": [
    {
      "cell_type": "markdown",
      "metadata": {
        "id": "view-in-github",
        "colab_type": "text"
      },
      "source": [
        "<a href=\"https://colab.research.google.com/github/Waranika/DCU-EE425-IPA/blob/main/IPA1/count_star_points_1.ipynb\" target=\"_parent\"><img src=\"https://colab.research.google.com/assets/colab-badge.svg\" alt=\"Open In Colab\"/></a>"
      ]
    },
    {
      "cell_type": "code",
      "source": [
        "import matplotlib.pyplot as plt\n",
        "\n",
        "\n",
        "from skimage import io, data\n",
        "from skimage.measure import label, regionprops\n",
        "from skimage import data\n",
        "from skimage.filters import threshold_otsu\n",
        "from skimage.segmentation import clear_border\n",
        "from skimage.morphology import closing, square"
      ],
      "metadata": {
        "id": "BO703P2rOZSv"
      },
      "execution_count": 11,
      "outputs": []
    },
    {
      "cell_type": "markdown",
      "source": [
        "Task: Count the number of tips on a binary star image\n",
        "\n",
        "Design Principal: Indirect - Use the fact that the number of bays in the image correspond to the number\n",
        "of star tips → Count the number of bays in the star image\n",
        "\n",
        "Basic Steps:\n",
        "* Load image\n",
        "* Segment out the number of bays in the image\n",
        "* Smooth the image to increase reliability\n",
        "* Assign a unique greyscale value to each of the bays\n",
        "* Assign a centroid to each grey scale region\n",
        "* Count the centroids = number of bays = number of star tips\n",
        "* Display results"
      ],
      "metadata": {
        "id": "YzXqYcuDJViV"
      }
    },
    {
      "cell_type": "code",
      "execution_count": 2,
      "metadata": {
        "id": "FTa_95mpIs5I"
      },
      "outputs": [],
      "source": [
        "image = io.imread(\"Star.jpg\")"
      ]
    },
    {
      "cell_type": "code",
      "source": [
        "# apply threshold\n",
        "thresh = threshold_otsu(image)\n",
        "bw = closing(image > thresh)\n",
        "\n",
        "\n",
        "# label image regions\n",
        "label_image = label(bw)"
      ],
      "metadata": {
        "id": "AMKv_fx7OwJf",
        "colab": {
          "base_uri": "https://localhost:8080/"
        },
        "outputId": "35da748e-a616-4ca6-eda6-e0b0500544c8"
      },
      "execution_count": 13,
      "outputs": [
        {
          "output_type": "stream",
          "name": "stderr",
          "text": [
            "<ipython-input-13-4b5d7cf86ea2>:2: UserWarning: threshold_otsu is expected to work correctly only for grayscale images; image shape (235, 233, 3) looks like that of an RGB image.\n",
            "  thresh = threshold_otsu(image)\n"
          ]
        }
      ]
    },
    {
      "cell_type": "code",
      "source": [
        "fig, ax = plt.subplots(figsize=(10, 6))\n",
        "ax.imshow(label_image)"
      ],
      "metadata": {
        "colab": {
          "base_uri": "https://localhost:8080/",
          "height": 544
        },
        "id": "JUmM4-mBRDrH",
        "outputId": "53e7e0c3-12f3-422b-bce1-272bad29e5c1"
      },
      "execution_count": 14,
      "outputs": [
        {
          "output_type": "execute_result",
          "data": {
            "text/plain": [
              "<matplotlib.image.AxesImage at 0x7ab8e7b8f6a0>"
            ]
          },
          "metadata": {},
          "execution_count": 14
        },
        {
          "output_type": "display_data",
          "data": {
            "text/plain": [
              "<Figure size 1000x600 with 1 Axes>"
            ],
            "image/png": "[encoded data removed]"
          },
          "metadata": {}
        }
      ]
    },
    {
      "cell_type": "code",
      "source": [],
      "metadata": {
        "id": "_NEAcd4eRLiX"
      },
      "execution_count": null,
      "outputs": []
    }
  ]
}